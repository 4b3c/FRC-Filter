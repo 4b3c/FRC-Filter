{
 "cells": [
  {
   "cell_type": "code",
   "execution_count": 3,
   "id": "62f5ad4a",
   "metadata": {},
   "outputs": [],
   "source": [
    "import json\n",
    "import pandas as pd\n",
    "\n",
    "with open(\"events.json\", \"r\") as f:\n",
    "    data = json.load(f)\n",
    "\n",
    "df = pd.DataFrame(data)"
   ]
  },
  {
   "cell_type": "code",
   "execution_count": 11,
   "id": "3f415c89",
   "metadata": {},
   "outputs": [
    {
     "name": "stdout",
     "output_type": "stream",
     "text": [
      "Teams from Championship Division:\n",
      "     short_name      key\n",
      "1    Archimedes  2025arc\n",
      "34        Curie  2025cur\n",
      "35         Daly  2025dal\n",
      "44      Galileo  2025gal\n",
      "47       Hopper  2025hop\n",
      "63      Johnson  2025joh\n",
      "92     Milstein  2025mil\n",
      "135      Newton  2025new\n"
     ]
    }
   ],
   "source": [
    "# Filter teams by event_type_string\n",
    "event_type_string_filter = 'Championship Division'\n",
    "filtered_teams = df[df['event_type_string'] == event_type_string_filter]\n",
    "\n",
    "# Print filtered teams with selected columns\n",
    "print(f\"Teams from {event_type_string_filter}:\")\n",
    "print(filtered_teams[['short_name', 'key']])"
   ]
  },
  {
   "cell_type": "code",
   "execution_count": 30,
   "id": "89d0d29e",
   "metadata": {},
   "outputs": [
    {
     "name": "stdout",
     "output_type": "stream",
     "text": [
      "['2025mibkn', '2025melew', '2025wabon', '2025njrob', '2025mawne', '2025mitvc', '2025wayak', '2025mitvc', '2025miber', '2025gagwi', '2025mibel', '2025ncwak', '2025wabon', '2025wayak', '2025ncash']\n",
      "['2025nyro', '2025mxle', '2025tuak', '2025cala', '2025mxle', '2025mosl', '2025mslr', '2025brba', '2025mslr', '2025casj', '2025cada', '2025nyro', '2025mslr', '2025mosl', '2025flta']\n"
     ]
    }
   ],
   "source": [
    "# Filter teams by week_filter\n",
    "df = df[df[\"week\"] == 2]\n",
    "grouped = df.groupby(\"event_type_string\")\n",
    "\n",
    "events = {}\n",
    "# Example: print all team numbers per division\n",
    "for type, group in grouped:\n",
    "    events[type] = group[\"key\"].tolist()\n",
    "\n",
    "import random\n",
    "district_event_keys = random.choices(events[\"District\"], k=15)\n",
    "print(district_event_keys)\n",
    "regional_event_keys = random.choices(events[\"Regional\"], k=15)\n",
    "print(regional_event_keys)\n"
   ]
  }
 ],
 "metadata": {
  "kernelspec": {
   "display_name": ".venv",
   "language": "python",
   "name": "python3"
  },
  "language_info": {
   "codemirror_mode": {
    "name": "ipython",
    "version": 3
   },
   "file_extension": ".py",
   "mimetype": "text/x-python",
   "name": "python",
   "nbconvert_exporter": "python",
   "pygments_lexer": "ipython3",
   "version": "3.13.2"
  }
 },
 "nbformat": 4,
 "nbformat_minor": 5
}
