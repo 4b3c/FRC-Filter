{
 "cells": [
  {
   "cell_type": "code",
   "execution_count": 5,
   "id": "62f5ad4a",
   "metadata": {},
   "outputs": [],
   "source": [
    "import json\n",
    "import pandas as pd\n",
    "\n",
    "with open(\"data.json\", \"r\") as f:\n",
    "    data = json.load(f)\n",
    "\n",
    "df = pd.DataFrame(data)"
   ]
  },
  {
   "cell_type": "code",
   "execution_count": 11,
   "id": "3f415c89",
   "metadata": {},
   "outputs": [
    {
     "name": "stdout",
     "output_type": "stream",
     "text": [
      "Teams from Arizona:\n",
      "      team_number                                           nickname       key\n",
      "49             60  Kingman FIRST Robotics Team 60 (The Bionic Bul...     frc60\n",
      "402           498                               The Cobra Commanders    frc498\n",
      "569           698                                 Hamilton Microbots    frc698\n",
      "652           842                                    Falcon Robotics    frc842\n",
      "777           991                                         BroncoBots    frc991\n",
      "...           ...                                                ...       ...\n",
      "8557        10256                                   Team Scrap Metal  frc10256\n",
      "8590        10327                                   Perry Pumatronix  frc10327\n",
      "8623        10380                                 The Dragon Hunters  frc10380\n",
      "8694        10491                               Subatomic Smarticles  frc10491\n",
      "8707        10506                                 Crash Test Dummies  frc10506\n",
      "\n",
      "[102 rows x 3 columns]\n"
     ]
    }
   ],
   "source": [
    "# Filter teams by state_prov\n",
    "state_prov_filter = 'Arizona'\n",
    "filtered_teams = df[df['state_prov'] == state_prov_filter]\n",
    "\n",
    "# Print filtered teams with selected columns\n",
    "print(f\"Teams from {state_prov_filter}:\")\n",
    "print(filtered_teams[['team_number', 'nickname', 'key']])"
   ]
  }
 ],
 "metadata": {
  "kernelspec": {
   "display_name": ".venv",
   "language": "python",
   "name": "python3"
  },
  "language_info": {
   "codemirror_mode": {
    "name": "ipython",
    "version": 3
   },
   "file_extension": ".py",
   "mimetype": "text/x-python",
   "name": "python",
   "nbconvert_exporter": "python",
   "pygments_lexer": "ipython3",
   "version": "3.13.2"
  }
 },
 "nbformat": 4,
 "nbformat_minor": 5
}
